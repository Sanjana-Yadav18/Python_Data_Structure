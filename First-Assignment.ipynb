{
 "cells": [
  {
   "cell_type": "code",
   "execution_count": 1,
   "id": "d42561ac-1ea1-41de-a80d-e321d8cf735d",
   "metadata": {},
   "outputs": [
    {
     "name": "stdout",
     "output_type": "stream",
     "text": [
      " aidni fo stnemunom\n"
     ]
    }
   ],
   "source": [
    "# Write a code to reverse a string.\n",
    "\n",
    "MOI = \"monuments of india \"\n",
    "print (MOI[::-1])"
   ]
  },
  {
   "cell_type": "code",
   "execution_count": 2,
   "id": "379038ab-5d5e-496f-9561-26e2f5cccd0d",
   "metadata": {},
   "outputs": [
    {
     "name": "stdout",
     "output_type": "stream",
     "text": [
      "Today is sunday 5\n"
     ]
    }
   ],
   "source": [
    "# Write a code to count the number a vowels in a string.\n",
    "\n",
    "s = \"Today is sunday\"\n",
    "vowel = 0\n",
    "for i in s :\n",
    "    if i in 'aeiouAEIOU' :\n",
    "        vowel += 1\n",
    "print (s,vowel)\n"
   ]
  },
  {
   "cell_type": "code",
   "execution_count": 3,
   "id": "dd057f49-ab45-409b-b13f-c7797ca25932",
   "metadata": {},
   "outputs": [
    {
     "name": "stdout",
     "output_type": "stream",
     "text": [
      "True\n"
     ]
    }
   ],
   "source": [
    "#  Write a code to check if a given string is a palindrome or not.\n",
    "\n",
    "\n",
    "def is_palindrome(s):\n",
    "    return s == s[::-1]\n",
    "print(is_palindrome(\"racecar\"))"
   ]
  },
  {
   "cell_type": "code",
   "execution_count": 4,
   "id": "f65ce263-caa1-4789-9ef8-34d55a38215e",
   "metadata": {},
   "outputs": [
    {
     "name": "stdout",
     "output_type": "stream",
     "text": [
      "False\n"
     ]
    }
   ],
   "source": [
    "# Write a code to check if two given strings are anagrams of each other.\n",
    "\n",
    "\n",
    "s1 = \"Astronomer\"\n",
    "s2 = \"Moon starer\"\n",
    "if len(s1) == len(s2):\n",
    "    print (true)\n",
    "else:\n",
    "    print(False)"
   ]
  },
  {
   "cell_type": "code",
   "execution_count": 1,
   "id": "dc62a183-c7bf-4fe9-ba1f-c07cdfa4868b",
   "metadata": {},
   "outputs": [
    {
     "name": "stdout",
     "output_type": "stream",
     "text": [
      "2\n"
     ]
    }
   ],
   "source": [
    "# Write a code to find all occurrences of a given substring within another strings.\n",
    "\n",
    "#initializing a string\n",
    "my_string = \"Eddie Ate Dynamite Good Bye Eddie\"\n",
    "#using string count() method\n",
    "char_count = my_string.count('Eddie')\n",
    "#printing the result\n",
    "print(char_count)"
   ]
  },
  {
   "cell_type": "code",
   "execution_count": 4,
   "id": "0cb9d5cf-8322-4a32-9938-dd88b2766cc0",
   "metadata": {},
   "outputs": [
    {
     "name": "stdout",
     "output_type": "stream",
     "text": [
      "Compressed string: a2b3c4d2\n"
     ]
    }
   ],
   "source": [
    "#  Write a code to perform basic string compression using the counts of repeated characters.\n",
    "\n",
    "\n",
    "def compress_string(input_string):\n",
    "    \"\"\"\n",
    "    Function to perform basic string compression using the counts of repeated characters.\n",
    "    Returns the compressed string.\n",
    "    \"\"\"\n",
    "    compressed_string = \"\"\n",
    "    count = 1\n",
    "    for i in range(1, len(input_string)):\n",
    "        if input_string[i] == input_string[i - 1]:\n",
    "            count += 1\n",
    "        else:\n",
    "            compressed_string += input_string[i - 1] + str(count)\n",
    "            count = 1\n",
    "    compressed_string += input_string[-1] + str(count)\n",
    "    \n",
    "    # Check if the compressed string is shorter than the original string\n",
    "    if len(compressed_string) < len(input_string):\n",
    "        return compressed_string\n",
    "    else:\n",
    "        return input_string\n",
    "    \n",
    "input_string = \"aabbbccccdd\"\n",
    "compressed_result = compress_string(input_string)\n",
    "print(\"Compressed string:\", compressed_result)\n",
    "\n"
   ]
  },
  {
   "cell_type": "code",
   "execution_count": 8,
   "id": "75cc0605-7adf-4061-a104-471086fd213e",
   "metadata": {},
   "outputs": [
    {
     "name": "stdout",
     "output_type": "stream",
     "text": [
      "All characters are unique: True\n"
     ]
    }
   ],
   "source": [
    "# Write a code to determine if a string has all unique characters.\n",
    "\n",
    "    \n",
    "def has_unique_characters(input_string):\n",
    "    \"\"\"\n",
    "    Function to determine if a string has all unique characters.\n",
    "    Returns True if all characters are unique, False otherwise.\n",
    "    \"\"\"\n",
    "    # Create an empty set to store encountered characters\n",
    "    encountered_characters = set()\n",
    "    \n",
    "    # Iterate through each character in the string\n",
    "    for char in input_string:\n",
    "        # If the character is already in the set, it means it's not unique\n",
    "        if char in encountered_characters:\n",
    "            return False\n",
    "        # Otherwise, add the character to the set\n",
    "        encountered_characters.add(char)\n",
    "    \n",
    "    # If the loop completes without returning False, all characters are unique\n",
    "    return True\n",
    "\n",
    "input_string = \"abcdefg\"\n",
    "result = has_unique_characters(input_string)\n",
    "print(\"All characters are unique:\", result)  "
   ]
  },
  {
   "cell_type": "code",
   "execution_count": 9,
   "id": "017c7a0c-2588-4047-a1c7-a88a3e8edf00",
   "metadata": {},
   "outputs": [
    {
     "data": {
      "text/plain": [
       "'HELLOW WORLD'"
      ]
     },
     "execution_count": 9,
     "metadata": {},
     "output_type": "execute_result"
    }
   ],
   "source": [
    "# Write a code to convert a given string to uppercase or lowercase.\n",
    "\n",
    "# for uppercase:\n",
    "s = \"hellow world\"\n",
    "s.upper()\n"
   ]
  },
  {
   "cell_type": "code",
   "execution_count": 11,
   "id": "b8c76a0d-53c6-42c2-88d8-632c79ced78b",
   "metadata": {},
   "outputs": [
    {
     "name": "stdout",
     "output_type": "stream",
     "text": [
      "Number of words in the string: 4\n"
     ]
    }
   ],
   "source": [
    "# Write a code to count the number of words in a strings.\n",
    "\n",
    "def count_words(input_string):\n",
    "    \"\"\"\n",
    "    Function to count the number of words in a string.\n",
    "    Returns the count of words.\n",
    "    \"\"\"\n",
    "    # Split the string into words using whitespace as the delimiter\n",
    "    words = input_string.split()\n",
    "    \n",
    "    # Count the number of words\n",
    "    word_count = len(words)\n",
    "    \n",
    "    return word_count\n",
    "\n",
    "input_string = \"Hello, how are you?\"\n",
    "word_count = count_words(input_string)\n",
    "print(\"Number of words in the string:\", word_count)"
   ]
  },
  {
   "cell_type": "code",
   "execution_count": 12,
   "id": "e33204a9-5220-4fcb-a9de-e07457d39cf8",
   "metadata": {},
   "outputs": [
    {
     "name": "stdout",
     "output_type": "stream",
     "text": [
      "data analytics course\n"
     ]
    }
   ],
   "source": [
    "#  Write a code to concatenate two strings without using the + operators.\n",
    "\n",
    "s1 = \"data analytics \"\n",
    "s2= \"course\"\n",
    "result = \"\".join([s1,s2])\n",
    "print(result)"
   ]
  },
  {
   "cell_type": "code",
   "execution_count": 13,
   "id": "8dd690f1-6a80-43c4-b152-661b596d4e2c",
   "metadata": {},
   "outputs": [
    {
     "name": "stdout",
     "output_type": "stream",
     "text": [
      "['banana', 'cheery', 'grapes']\n"
     ]
    }
   ],
   "source": [
    "# Write a code to remove all occurrences of a specific element from a list.\n",
    "\n",
    "list = [\"apple\",\"banana\",\"cheery\",\"grapes\",\"apple\",\"apple\"]\n",
    "value_to_remove = \"apple\"\n",
    "while value_to_remove in list:\n",
    "    list.remove(value_to_remove)\n",
    "print (list)"
   ]
  },
  {
   "cell_type": "code",
   "execution_count": 14,
   "id": "60ba4cc2-cbd5-4b7e-b829-07949a03e1f3",
   "metadata": {},
   "outputs": [
    {
     "name": "stdout",
     "output_type": "stream",
     "text": [
      "The second largest element of the list is: 30\n"
     ]
    }
   ],
   "source": [
    "# Implement a code to find the second largest number in a given list of integers.\n",
    "\n",
    "\n",
    "list_val = [20, 30, 40, 25, 10]  \n",
    "# sorting the list  \n",
    "list_val.sort()  \n",
    "#displaying the second last element of the list  \n",
    "print(\"The second largest element of the list is:\", list_val[-2]) \n"
   ]
  },
  {
   "cell_type": "code",
   "execution_count": 15,
   "id": "b6be37d0-539a-4691-a5d6-10fb8dc6e094",
   "metadata": {},
   "outputs": [
    {
     "name": "stdout",
     "output_type": "stream",
     "text": [
      "('occurrences of each element in a list :', {1: 1, 2: 2, 3: 3, 4: 4})\n"
     ]
    }
   ],
   "source": [
    "# Create a code to count the occurrences of each element in a list and return a dictionary with elements as key and their count as value.\n",
    "\n",
    "def count_occurrences(lst):\n",
    "    element_count = {}\n",
    "    \n",
    "    # Iterate through the list\n",
    "    for element in lst:\n",
    "        if element not in element_count:\n",
    "           element_count[element] = 1\n",
    "        else:\n",
    "           element_count[element] += 1\n",
    "    \n",
    "    return element_count\n",
    "my_list = [1, 2, 2, 3, 3, 3, 4, 4, 4, 4]\n",
    "result = (\"occurrences of each element in a list :\" ,count_occurrences(my_list))\n",
    "print(result)\n",
    "\n",
    "  "
   ]
  },
  {
   "cell_type": "code",
   "execution_count": null,
   "id": "1bdaa863-8943-4f48-b02f-2463739c706e",
   "metadata": {},
   "outputs": [],
   "source": [
    "#  Write a code to reverse a list in-place without using any built in reverse function.\n",
    " \n",
    "original_list = [1, 2, 3, 4, 5]\n",
    "reversed_list = original_list[::-1]\n",
    "print(reversed_list)"
   ]
  },
  {
   "cell_type": "code",
   "execution_count": null,
   "id": "3cf61907-b9d9-48b8-a535-d6ed8cb6296b",
   "metadata": {},
   "outputs": [],
   "source": [
    "# Implement a code to find and remove duplicates from a list while preserving the original order of elements. \n",
    "\n",
    "from collections import OrderedDict\n",
    "def remove_duplicates(lst):\n",
    "    return list(OrderedDict.fromkeys(lst))\n",
    "\n",
    "test_list = [1, 5, 3, 6, 3, 5, 6, 1]\n",
    "print (\"The original list is : \" + str(test_list))\n",
    " \n",
    "# using collections.OrderedDict.fromkeys() to remove duplicated from list\n",
    "res = list(OrderedDict.fromkeys(test_list))\n",
    " \n",
    "print (\"The list after removing duplicates : \" + str(res))"
   ]
  },
  {
   "cell_type": "code",
   "execution_count": 16,
   "id": "2d1b246e-033a-4956-86be-301c0be2e87e",
   "metadata": {},
   "outputs": [
    {
     "name": "stdout",
     "output_type": "stream",
     "text": [
      "Given list :  [11, 23, 42, 51, 67]\n",
      "Yes, List is sorted.\n",
      "Given list :  [11, 23, 21, 51, 67]\n",
      "No, List is not sorted.\n"
     ]
    }
   ],
   "source": [
    "# Create a code to check if a given list is sorted (either in ascending or descending order) or not.\n",
    "\n",
    "\n",
    "listA = [11,23,42,51,67]\n",
    "#Given list\n",
    "print(\"Given list : \",listA)\n",
    "listA_copy = listA[:]\n",
    "# Apply sort to copy\n",
    "listA_copy.sort()\n",
    "if (listA == listA_copy):\n",
    "   print(\"Yes, List is sorted.\")\n",
    "else:\n",
    "   print(\"No, List is not sorted.\")\n",
    "\n",
    "# Checking again\n",
    "listB = [11,23,21,51,67]\n",
    "#Given list\n",
    "print(\"Given list : \",listB)\n",
    "listB_copy = listB[:]\n",
    "# Apply sort to copy\n",
    "listB_copy.sort()\n",
    "if (listB == listB_copy):\n",
    "   print(\"Yes, List is sorted.\")\n",
    "else:\n",
    "   print(\"No, List is not sorted.\")\n",
    "\n"
   ]
  },
  {
   "cell_type": "code",
   "execution_count": null,
   "id": "3ce7fadd-3728-4dba-8070-4b1ae9af733f",
   "metadata": {},
   "outputs": [],
   "source": [
    "#  Write a code to merge two sorted lists into a single sorted list.\n",
    "\n",
    "def merge_sorted_lists(list1, list2):\n",
    "    merged_list = list1 + list2\n",
    "    # Sort the merged list\n",
    "    merged_list.sort()\n",
    "    return merged_list\n",
    "\n",
    "list1 = [1, 3, 5, 7]\n",
    "list2 = [2, 4, 6, 8]\n",
    "merged_list = merge_sorted_lists(list1, list2)\n",
    "print(merged_list) "
   ]
  },
  {
   "cell_type": "code",
   "execution_count": null,
   "id": "6faf93ec-0ac5-439c-b7ad-6732b0d5f4a1",
   "metadata": {},
   "outputs": [],
   "source": [
    "#  Implement a code to find the intersection of two given lists.\n",
    "\n",
    "\n",
    "def find_intersection(list1, list2):\n",
    "    # Convert lists to sets to remove duplicates\n",
    "    set1 = set(list1)\n",
    "    set2 = set(list2)\n",
    "    \n",
    "    # Find the intersection of the two sets\n",
    "    intersection = set1.intersection(set2)\n",
    "    \n",
    "    # Convert the intersection set back to a list\n",
    "    intersection_list = list(intersection)\n",
    "    \n",
    "    return intersection_list\n",
    "list1 = [1, 2, 3, 4, 5]\n",
    "list2 = [4, 5, 6, 7, 8]\n",
    "intersection_result = find_intersection(list1, list2)\n",
    "print(\"Intersection of list1 and list2:\", intersection_result)\n"
   ]
  },
  {
   "cell_type": "code",
   "execution_count": null,
   "id": "7af2686f-251b-4610-98ee-5081e5dcaa0c",
   "metadata": {},
   "outputs": [],
   "source": [
    "#   Create a code to find the union of two lists without duplicates.\n",
    "\n",
    "def find_union(list1, list2):\n",
    "    # Convert lists to sets to remove duplicates\n",
    "    set1 = set(list1)\n",
    "    set2 = set(list2)\n",
    "    \n",
    "    # Find the union of the two sets\n",
    "    union = set1.union(set2)\n",
    "    \n",
    "    # Convert the union set back to a list\n",
    "    union_list = list(union)\n",
    "    \n",
    "    return union_list\n",
    "list1 = [1, 2, 3, 4, 5]\n",
    "list2 = [4, 5, 6, 7, 8]\n",
    "union_result = find_union(list1, list2)\n",
    "print(\"Union of list1 and list2:\", union_result)"
   ]
  },
  {
   "cell_type": "code",
   "execution_count": null,
   "id": "6b27cefa-443b-4fe6-befa-1e206b03fe56",
   "metadata": {},
   "outputs": [],
   "source": [
    "#  Write a code to shuffle a given list randomly without using any built-in shuffle functions.\n",
    "\n",
    "\n",
    "import random\n",
    "\n",
    "def custom_shuffle(input_list):\n",
    "    shuffled_list = input_list[:]  # Create a copy of the input list\n",
    "    \n",
    "    # Iterate over each element in the list\n",
    "    for i in range(len(shuffled_list)):\n",
    "        # Generate a random index within the range of the list\n",
    "        random_index = random.randint(0, i)\n",
    "        \n",
    "        # Swap the current element with the element at the random index\n",
    "        shuffled_list[i], shuffled_list[random_index] = shuffled_list[random_index], shuffled_list[i]\n",
    "    \n",
    "    return shuffled_list\n",
    "\n",
    "my_list = [1, 2, 3, 4, 5]\n",
    "shuffled_result = custom_shuffle(my_list)\n",
    "print(\"Shuffled list:\", shuffled_result)"
   ]
  },
  {
   "cell_type": "code",
   "execution_count": null,
   "id": "070c41ff-6989-42d1-b670-108980e64750",
   "metadata": {},
   "outputs": [],
   "source": [
    "#  Write a code that takes two tuples as input and returns a new tuple containing elements that are common to both input turples.\n",
    "\n",
    "\n",
    "def find_common_elements(tuple1, tuple2):\n",
    "    # Convert tuples to sets to find common elements efficiently\n",
    "    set1 = set(tuple1)\n",
    "    set2 = set(tuple2)\n",
    "    \n",
    "    # Find the intersection of the two sets to get common elements\n",
    "    common_elements = set1.intersection(set2)\n",
    "    \n",
    "    # Convert the common elements set to a tuple\n",
    "    common_elements_tuple = tuple(common_elements)\n",
    "    \n",
    "    return common_elements_tuple\n",
    "\n",
    "tuple1 = (1, 2, 3, 4, 5)\n",
    "tuple2 = (4, 5, 6, 7, 8)\n",
    "common_elements_result = find_common_elements(tuple1, tuple2)\n",
    "print(\"Common elements:\", common_elements_result)\n"
   ]
  },
  {
   "cell_type": "code",
   "execution_count": 7,
   "id": "6808a174-1ddb-446d-b595-ab1c7c7043b3",
   "metadata": {},
   "outputs": [
    {
     "name": "stdin",
     "output_type": "stream",
     "text": [
      "Enter the first set of integers separated by commas:  1,45,34,56\n",
      "Enter the second set of integers separated by commas:  2,45,34,76\n"
     ]
    },
    {
     "name": "stdout",
     "output_type": "stream",
     "text": [
      "Intersection of the two sets: {34, 45}\n"
     ]
    }
   ],
   "source": [
    "#  Create a code that prompts the user to enter two sets of integers seperated by commas .Then print the interection of these two sets.\n",
    " \n",
    "def input_set(prompt):\n",
    "    \"\"\"\n",
    "    Function to take input from user and convert it to a set of integers.\n",
    "    \"\"\"\n",
    "    user_input = input(prompt)\n",
    "    # Split the input by commas and convert each part to an integer\n",
    "    integer_set = set(map(int, user_input.split(',')))\n",
    "    return integer_set\n",
    "\n",
    "def main():\n",
    "    # Prompt the user to enter the first set of integers\n",
    "    set1 = input_set(\"Enter the first set of integers separated by commas: \")\n",
    "    \n",
    "    # Prompt the user to enter the second set of integers\n",
    "    set2 = input_set(\"Enter the second set of integers separated by commas: \")\n",
    "    \n",
    "    # Find the intersection of the two sets\n",
    "    intersection = set1.intersection(set2)\n",
    "    \n",
    "    # Print the intersection\n",
    "    print(\"Intersection of the two sets:\", intersection)\n",
    "\n",
    "# Call the main function\n",
    "main()\n",
    "\n"
   ]
  },
  {
   "cell_type": "code",
   "execution_count": 1,
   "id": "498ef723-abed-4180-a517-d516098338d6",
   "metadata": {},
   "outputs": [
    {
     "name": "stdout",
     "output_type": "stream",
     "text": [
      "Concatenated tuple: (1, 2, 3, 4, 5, 6)\n"
     ]
    }
   ],
   "source": [
    "# Write a code to concatenate two tuples. The function should take two tuples as input and return a new tuple containing element from both input tuple.\n",
    "\n",
    "def concatenate_tuples(tuple1, tuple2):\n",
    "    # Concatenate the two tuples\n",
    "    concatenated_tuple = tuple1 + tuple2\n",
    "    return concatenated_tuple\n",
    "\n",
    "tuple1 = (1, 2, 3)\n",
    "tuple2 = (4, 5, 6)\n",
    "concatenated_result = concatenate_tuples(tuple1, tuple2)\n",
    "print(\"Concatenated tuple:\", concatenated_result)\n"
   ]
  },
  {
   "cell_type": "code",
   "execution_count": 2,
   "id": "d2e0136c-09c5-4b41-9ce6-75edf4425f6b",
   "metadata": {},
   "outputs": [
    {
     "name": "stdin",
     "output_type": "stream",
     "text": [
      "Enter the first set of strings separated by commas:  apple ,banana,cherry, strawberry\n",
      "Enter the second set of strings separated by commas:  lime ,lemon,cherry ,apple,potato\n"
     ]
    },
    {
     "name": "stdout",
     "output_type": "stream",
     "text": [
      "Elements present in the first set but not in the second set: {'strawberry', 'banana'}\n"
     ]
    }
   ],
   "source": [
    "# Develop a code that prompts the user to input two sets of strings. Then print the elements that are present in the firs set but not in second set.\n",
    "\n",
    "def input_set_of_strings(prompt):\n",
    "    \"\"\"\n",
    "    Function to take input from user and convert it to a set of strings.\n",
    "    \"\"\"\n",
    "    user_input = input(prompt)\n",
    "    # Split the input by commas and remove leading/trailing spaces\n",
    "    string_set = {string.strip() for string in user_input.split(',')}\n",
    "    return string_set\n",
    "\n",
    "def main():\n",
    "    # Prompt the user to enter the first set of strings\n",
    "    set1 = input_set_of_strings(\"Enter the first set of strings separated by commas: \")\n",
    "    \n",
    "    # Prompt the user to enter the second set of strings\n",
    "    set2 = input_set_of_strings(\"Enter the second set of strings separated by commas: \")\n",
    "    \n",
    "    # Find the elements present in the first set but not in the second set\n",
    "    elements_only_in_first_set = set1 - set2\n",
    "    \n",
    "    # Print the elements\n",
    "    print(\"Elements present in the first set but not in the second set:\", elements_only_in_first_set)\n",
    "\n",
    "# Call the main function\n",
    "main()"
   ]
  },
  {
   "cell_type": "code",
   "execution_count": 3,
   "id": "5e3203e5-a047-4dab-9654-62a7ed5d56e8",
   "metadata": {},
   "outputs": [
    {
     "name": "stdout",
     "output_type": "stream",
     "text": [
      "Extracted tuple: (3, 4, 5, 6, 7)\n"
     ]
    }
   ],
   "source": [
    "#  Create a code that takes a tuple and two integer as input .The function shold return a new tuple containing element from the original tuple within specified range of indicies.\n",
    "\n",
    "def extract_elements_by_range(input_tuple, start_index, end_index):\n",
    "    \"\"\"\n",
    "    Function to extract elements from a tuple within a specified range of indices.\n",
    "    \"\"\"\n",
    "    # Check if the indices are within the bounds of the tuple\n",
    "    if start_index < 0 or end_index >= len(input_tuple) or start_index > end_index:\n",
    "        return None  # Return None if indices are out of bounds or invalid\n",
    "    \n",
    "    # Extract elements within the specified range of indices\n",
    "    extracted_tuple = input_tuple[start_index:end_index + 1]\n",
    "    return extracted_tuple\n",
    "\n",
    "original_tuple = (1, 2, 3, 4, 5, 6, 7, 8, 9)\n",
    "start_index = 2\n",
    "end_index = 6\n",
    "extracted_result = extract_elements_by_range(original_tuple, start_index, end_index)\n",
    "print(\"Extracted tuple:\", extracted_result)"
   ]
  },
  {
   "cell_type": "code",
   "execution_count": 4,
   "id": "c25d0bb1-14e6-431e-b353-19192eb8035b",
   "metadata": {},
   "outputs": [
    {
     "name": "stdin",
     "output_type": "stream",
     "text": [
      "Enter the first set of characters:  a,b,c,d\n",
      "Enter the second set of characters:  b,c,f,g\n"
     ]
    },
    {
     "name": "stdout",
     "output_type": "stream",
     "text": [
      "Union of the two sets: {'c', ',', 'd', 'a', 'b', 'f', 'g'}\n"
     ]
    }
   ],
   "source": [
    "# Write a code that prompts the user to input two sets of characters. Then print the union of these two sets.\n",
    "\n",
    "def input_set_of_characters(prompt):\n",
    "    \"\"\"\n",
    "    Function to take input from user and convert it to a set of characters.\n",
    "    \"\"\"\n",
    "    user_input = input(prompt)\n",
    "    # Remove leading/trailing spaces and convert to a set of characters\n",
    "    char_set = set(user_input.strip())\n",
    "    return char_set\n",
    "\n",
    "def main():\n",
    "    # Prompt the user to enter the first set of characters\n",
    "    set1 = input_set_of_characters(\"Enter the first set of characters: \")\n",
    "    \n",
    "    # Prompt the user to enter the second set of characters\n",
    "    set2 = input_set_of_characters(\"Enter the second set of characters: \")\n",
    "    \n",
    "    # Find the union of the two sets\n",
    "    union_set = set1.union(set2)\n",
    "    \n",
    "    # Print the union\n",
    "    print(\"Union of the two sets:\", union_set)\n",
    "\n",
    "# Call the main function\n",
    "main()"
   ]
  },
  {
   "cell_type": "code",
   "execution_count": 5,
   "id": "14a6f0e2-7708-4f11-8c94-609a2e4ea41d",
   "metadata": {},
   "outputs": [
    {
     "name": "stdout",
     "output_type": "stream",
     "text": [
      "Maximum value: 9\n",
      "Minimum value: 1\n"
     ]
    }
   ],
   "source": [
    "# Develop a code that takes a tuple of integers as input. The function should return the maximum and minimum values from the tuple using tuple unpacking.\n",
    "\n",
    "\n",
    "def find_max_min(input_tuple):\n",
    "    \"\"\"\n",
    "    Function to find the maximum and minimum values from a tuple of integers.\n",
    "    \"\"\"\n",
    "    # Use tuple unpacking to find the maximum and minimum values\n",
    "    max_value = max(input_tuple)\n",
    "    min_value = min(input_tuple)\n",
    "    \n",
    "    return max_value, min_value\n",
    "\n",
    "input_tuple = (5, 3, 9, 1, 7)\n",
    "max_value, min_value = find_max_min(input_tuple)\n",
    "print(\"Maximum value:\", max_value)\n",
    "print(\"Minimum value:\", min_value)\n"
   ]
  },
  {
   "cell_type": "code",
   "execution_count": 6,
   "id": "0e095323-b538-4410-9de1-bf78b1d79bb7",
   "metadata": {},
   "outputs": [
    {
     "name": "stdout",
     "output_type": "stream",
     "text": [
      "Union of set1 and set2: {1, 2, 3, 4, 5, 6, 7, 8}\n",
      "Intersection of set1 and set2: {4, 5}\n",
      "Difference of set1 - set2: {1, 2, 3}\n",
      "Difference of set2 - set1: {8, 6, 7}\n"
     ]
    }
   ],
   "source": [
    "#  Create a code tha define two sets of integers. Then print the union, intersection and difference of these two sets.\n",
    "\n",
    "\n",
    "def main():\n",
    "    # Define the first set of integers\n",
    "    set1 = {1, 2, 3, 4, 5}\n",
    "    \n",
    "    # Define the second set of integers\n",
    "    set2 = {4, 5, 6, 7, 8}\n",
    "    \n",
    "    # Print the union of the two sets\n",
    "    union_set = set1.union(set2)\n",
    "    print(\"Union of set1 and set2:\", union_set)\n",
    "    \n",
    "    # Print the intersection of the two sets\n",
    "    intersection_set = set1.intersection(set2)\n",
    "    print(\"Intersection of set1 and set2:\", intersection_set)\n",
    "    \n",
    "    # Print the difference of set1 - set2\n",
    "    difference_set1_set2 = set1 - set2\n",
    "    print(\"Difference of set1 - set2:\", difference_set1_set2)\n",
    "    \n",
    "    # Print the difference of set2 - set1\n",
    "    difference_set2_set1 = set2 - set1\n",
    "    print(\"Difference of set2 - set1:\", difference_set2_set1)\n",
    "\n",
    "# Call the main function\n",
    "main()\n"
   ]
  },
  {
   "cell_type": "code",
   "execution_count": 7,
   "id": "7fb734ef-ce64-402b-ab2c-bfdd1f1b4fac",
   "metadata": {},
   "outputs": [
    {
     "name": "stdout",
     "output_type": "stream",
     "text": [
      "Number of occurrences of 2 in the tuple: 3\n"
     ]
    }
   ],
   "source": [
    "#  Write a code that takes a tuple and an element as input. The function should return the count of occurrences of the given element in the tuple.\n",
    "\n",
    "\n",
    "def count_occurrences(input_tuple, element):\n",
    "    \"\"\"\n",
    "    Function to count the occurrences of a given element in a tuple.\n",
    "    \"\"\"\n",
    "    # Use the count method to count occurrences of the element\n",
    "    occurrences = input_tuple.count(element)\n",
    "    return occurrences\n",
    "\n",
    "input_tuple = (1, 2, 3, 2, 4, 2, 5)\n",
    "element = 2\n",
    "occurrences = count_occurrences(input_tuple, element)\n",
    "print(\"Number of occurrences of\", element, \"in the tuple:\", occurrences)"
   ]
  },
  {
   "cell_type": "code",
   "execution_count": 8,
   "id": "d0a02f5c-a951-4a59-b075-4c8d71dabd82",
   "metadata": {},
   "outputs": [
    {
     "name": "stdin",
     "output_type": "stream",
     "text": [
      "Enter the first set of strings separated by commas:  table,chair,ball,bat,cup\n",
      "Enter the second set of strings separated by commas:  chair,bat,hair,bill,basket\n"
     ]
    },
    {
     "name": "stdout",
     "output_type": "stream",
     "text": [
      "Symmetric difference of the two sets: {'basket', 'table', 'hair', 'ball', 'bill', 'cup'}\n"
     ]
    }
   ],
   "source": [
    "#  Develop a code that prompts the user to input two sets of strings. Then print the sommetric difference of these two sets.\n",
    "\n",
    "\n",
    "def input_set_of_strings(prompt):\n",
    "    \"\"\"\n",
    "    Function to take input from user and convert it to a set of strings.\n",
    "    \"\"\"\n",
    "    user_input = input(prompt)\n",
    "    # Remove leading/trailing spaces and convert to a set of strings\n",
    "    string_set = {string.strip() for string in user_input.split(',')}\n",
    "    return string_set\n",
    "\n",
    "def main():\n",
    "    # Prompt the user to enter the first set of strings\n",
    "    set1 = input_set_of_strings(\"Enter the first set of strings separated by commas: \")\n",
    "    \n",
    "    # Prompt the user to enter the second set of strings\n",
    "    set2 = input_set_of_strings(\"Enter the second set of strings separated by commas: \")\n",
    "    \n",
    "    # Find the symmetric difference of the two sets\n",
    "    symmetric_difference = set1.symmetric_difference(set2)\n",
    "    \n",
    "    # Print the symmetric difference\n",
    "    print(\"Symmetric difference of the two sets:\", symmetric_difference)\n",
    "\n",
    "# Call the main function\n",
    "main()\n",
    "\n",
    "\n"
   ]
  },
  {
   "cell_type": "code",
   "execution_count": 9,
   "id": "fa2a0f1d-d578-4858-b93f-e1e677014a53",
   "metadata": {},
   "outputs": [
    {
     "name": "stdout",
     "output_type": "stream",
     "text": [
      "Word frequencies dictionary: {'apple': 3, 'banana': 2, 'orange': 1}\n"
     ]
    }
   ],
   "source": [
    "#  Write a code that takes a list of words as input and returns a dictionary where the keys are unique words and the values are the frequencies of those words in the input list.\n",
    "\n",
    "\n",
    "def count_word_frequencies(word_list):\n",
    "    \"\"\"\n",
    "    Function to count the frequencies of words in a list and return a dictionary.\n",
    "    \"\"\"\n",
    "    word_freq_dict = {}\n",
    "    for word in word_list:\n",
    "        # Update the count for each word in the dictionary\n",
    "        word_freq_dict[word] = word_freq_dict.get(word, 0) + 1\n",
    "    return word_freq_dict\n",
    "\n",
    "input_words = [\"apple\", \"banana\", \"apple\", \"orange\", \"banana\", \"apple\"]\n",
    "word_freq_dict = count_word_frequencies(input_words)\n",
    "print(\"Word frequencies dictionary:\", word_freq_dict)"
   ]
  },
  {
   "cell_type": "code",
   "execution_count": 10,
   "id": "9e6d7be9-acbc-4a1e-96d2-4edf57ea88af",
   "metadata": {},
   "outputs": [
    {
     "name": "stdout",
     "output_type": "stream",
     "text": [
      "Merged dictionary: {'a': 10, 'b': 35, 'c': 55, 'd': 35}\n"
     ]
    }
   ],
   "source": [
    "#  Write a code that takes two dictionaries as input and merges them into a single dictionary. If there are common keys the values should be added together.\n",
    "\n",
    "def merge_dictionaries(dict1, dict2):\n",
    "    \"\"\"\n",
    "    Function to merge two dictionaries into a single dictionary.\n",
    "    If there are common keys, the values are added together.\n",
    "    \"\"\"\n",
    "    merged_dict = dict1.copy()  # Create a copy of the first dictionary\n",
    "    \n",
    "    for key, value in dict2.items():\n",
    "        # If the key exists in the merged dictionary, add the values together\n",
    "        if key in merged_dict:\n",
    "            merged_dict[key] += value\n",
    "        else:\n",
    "            merged_dict[key] = value\n",
    "    \n",
    "    return merged_dict\n",
    "\n",
    "dict1 = {'a': 10, 'b': 20, 'c': 30}\n",
    "dict2 = {'b': 15, 'c': 25, 'd': 35}\n",
    "merged_dict = merge_dictionaries(dict1, dict2)\n",
    "print(\"Merged dictionary:\", merged_dict)"
   ]
  },
  {
   "cell_type": "code",
   "execution_count": 1,
   "id": "579d76fa-bbea-42f7-b4d8-7029e7ee29f4",
   "metadata": {},
   "outputs": [
    {
     "name": "stdout",
     "output_type": "stream",
     "text": [
      "Value corresponding to keys: 123\n"
     ]
    }
   ],
   "source": [
    "#  Write a code to access a value in a nested dictionary. The function should take the dictionary and a list of keys as input and return the corresponding value. If any of the keys do not exist in the dictionary the function should return None.\n",
    "\n",
    "def access_nested_value(dictionary, keys):\n",
    "    \"\"\"\n",
    "    Function to access a value in a nested dictionary using a list of keys.\n",
    "    Returns the corresponding value or None if any key does not exist.\n",
    "    \"\"\"\n",
    "    # Iterate through the keys in the list\n",
    "    current_dict = dictionary\n",
    "    for key in keys:\n",
    "        # Check if the current key exists in the current dictionary\n",
    "        if key in current_dict:\n",
    "            # Update the current dictionary to the nested dictionary corresponding to the current key\n",
    "            current_dict = current_dict[key]\n",
    "        else:\n",
    "            return None  # Return None if any key does not exist\n",
    "    \n",
    "    return current_dict\n",
    "\n",
    "nested_dict = {'a': {'b': {'c': 123}}}\n",
    "keys = ['a', 'b', 'c']\n",
    "value = access_nested_value(nested_dict, keys)\n",
    "print(\"Value corresponding to keys:\", value)"
   ]
  },
  {
   "cell_type": "code",
   "execution_count": 2,
   "id": "ab3713d0-0aa7-4188-bf0a-884bce034410",
   "metadata": {},
   "outputs": [
    {
     "name": "stdout",
     "output_type": "stream",
     "text": [
      "Sorted dictionary in ascending order: {'b': 2, 'd': 3, 'a': 5, 'c': 8}\n",
      "Sorted dictionary in descending order: {'c': 8, 'a': 5, 'd': 3, 'b': 2}\n"
     ]
    }
   ],
   "source": [
    "# Write a code that takes a dictionary as input and returns a sorted version of it based on the values. You can choose whather to sort in ascending or descending order.\n",
    "\n",
    "def sort_dictionary_by_values(dictionary, ascending=True):\n",
    "    \"\"\"\n",
    "    Function to sort a dictionary based on its values.\n",
    "    Returns the sorted dictionary.\n",
    "    \"\"\"\n",
    "    # Sort the dictionary items based on values\n",
    "    sorted_items = sorted(dictionary.items(), key=lambda x: x[1], reverse=not ascending)\n",
    "    \n",
    "    # Create a new dictionary from the sorted items\n",
    "    sorted_dict = {key: value for key, value in sorted_items}\n",
    "    \n",
    "    return sorted_dict\n",
    "\n",
    "input_dict = {'a': 5, 'b': 2, 'c': 8, 'd': 3}\n",
    "sorted_dict_asc = sort_dictionary_by_values(input_dict, ascending=True)\n",
    "sorted_dict_desc = sort_dictionary_by_values(input_dict, ascending=False)\n",
    "\n",
    "print(\"Sorted dictionary in ascending order:\", sorted_dict_asc)\n",
    "print(\"Sorted dictionary in descending order:\", sorted_dict_desc)"
   ]
  },
  {
   "cell_type": "code",
   "execution_count": 3,
   "id": "7cdf395a-4a24-4d54-ba11-3a9cf4d3b346",
   "metadata": {},
   "outputs": [
    {
     "name": "stdout",
     "output_type": "stream",
     "text": [
      "Inverted dictionary: {1: ['a', 'c'], 2: ['b'], 3: ['d']}\n"
     ]
    }
   ],
   "source": [
    "#  Write a code that inverts a dictionary swapping keys and values. Ensure that the inverted dictionary correctly handles cases where multiple keys have the same value by storing the keys as a list in the inverted dictionary.\n",
    "\n",
    "def invert_dictionary(dictionary):\n",
    "    \"\"\"\n",
    "    Function to invert a dictionary, swapping keys and values.\n",
    "    Handles cases where multiple keys have the same value by storing the keys as a list.\n",
    "    Returns the inverted dictionary.\n",
    "    \"\"\"\n",
    "    inverted_dict = {}\n",
    "    for key, value in dictionary.items():\n",
    "        # Check if the value already exists in the inverted dictionary\n",
    "        if value in inverted_dict:\n",
    "            # If the value exists, append the key to the list of keys for that value\n",
    "            inverted_dict[value].append(key)\n",
    "        else:\n",
    "            # If the value does not exist, create a new list with the key as the only element\n",
    "            inverted_dict[value] = [key]\n",
    "    return inverted_dict\n",
    "\n",
    "input_dict = {'a': 1, 'b': 2, 'c': 1, 'd': 3}\n",
    "inverted_dict = invert_dictionary(input_dict)\n",
    "print(\"Inverted dictionary:\", inverted_dict)"
   ]
  }
 ],
 "metadata": {
  "kernelspec": {
   "display_name": "Python 3 (ipykernel)",
   "language": "python",
   "name": "python3"
  },
  "language_info": {
   "codemirror_mode": {
    "name": "ipython",
    "version": 3
   },
   "file_extension": ".py",
   "mimetype": "text/x-python",
   "name": "python",
   "nbconvert_exporter": "python",
   "pygments_lexer": "ipython3",
   "version": "3.10.8"
  }
 },
 "nbformat": 4,
 "nbformat_minor": 5
}
